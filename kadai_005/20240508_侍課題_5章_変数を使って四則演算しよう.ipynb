{
  "nbformat": 4,
  "nbformat_minor": 0,
  "metadata": {
    "colab": {
      "provenance": []
    },
    "kernelspec": {
      "name": "python3",
      "display_name": "Python 3"
    },
    "language_info": {
      "name": "python"
    }
  },
  "cells": [
    {
      "cell_type": "code",
      "execution_count": 3,
      "metadata": {
        "colab": {
          "base_uri": "https://localhost:8080/"
        },
        "id": "DHu14AsyGBTp",
        "outputId": "ee5c2307-5c3b-424e-a879-084dd70b60f8"
      },
      "outputs": [
        {
          "output_type": "stream",
          "name": "stdout",
          "text": [
            "75.0cm²\n"
          ]
        }
      ],
      "source": [
        "# 台形の面積を求める\n",
        "\n",
        "# 条件設定\n",
        "a = 10 # 上辺\n",
        "b = 20 # 下辺\n",
        "h = 5 #高さ\n",
        "\n",
        "# 計算結果\n",
        "area = (a + b) * h / 2\n",
        "print(f\"{area}cm²\")"
      ]
    }
  ]
}